{
  "nbformat": 4,
  "nbformat_minor": 0,
  "metadata": {
    "colab": {
      "provenance": [],
      "include_colab_link": true
    },
    "kernelspec": {
      "name": "python3",
      "display_name": "Python 3"
    },
    "language_info": {
      "name": "python"
    }
  },
  "cells": [
    {
      "cell_type": "markdown",
      "metadata": {
        "id": "view-in-github",
        "colab_type": "text"
      },
      "source": [
        "<a href=\"https://colab.research.google.com/github/sahasbelbase/Information-Retrieval/blob/main/week3.ipynb\" target=\"_parent\"><img src=\"https://colab.research.google.com/assets/colab-badge.svg\" alt=\"Open In Colab\"/></a>"
      ]
    },
    {
      "cell_type": "code",
      "source": [
        "from google.colab import drive\n",
        "drive.mount('/content/drive')"
      ],
      "metadata": {
        "colab": {
          "base_uri": "https://localhost:8080/"
        },
        "id": "tIKHxjpikhVA",
        "outputId": "09008942-afb1-43b7-ae0e-4db491eedf2e"
      },
      "execution_count": 1,
      "outputs": [
        {
          "output_type": "stream",
          "name": "stdout",
          "text": [
            "Mounted at /content/drive\n"
          ]
        }
      ]
    },
    {
      "cell_type": "code",
      "source": [
        "import os\n",
        "import re\n",
        "import math\n",
        "import numpy as np\n",
        "import nltk\n",
        "nltk.download('stopwords')\n",
        "nltk.download('punkt')\n",
        "nltk.download('wordnet')\n",
        "from nltk.corpus import stopwords\n",
        "from nltk.tokenize import word_tokenize\n",
        "from nltk.stem import WordNetLemmatizer"
      ],
      "metadata": {
        "id": "7T3xbz4fkiwY",
        "colab": {
          "base_uri": "https://localhost:8080/"
        },
        "outputId": "bf618261-d5bb-4c8f-af49-55dde7251558"
      },
      "execution_count": 7,
      "outputs": [
        {
          "output_type": "stream",
          "name": "stderr",
          "text": [
            "[nltk_data] Downloading package stopwords to /root/nltk_data...\n",
            "[nltk_data]   Unzipping corpora/stopwords.zip.\n",
            "[nltk_data] Downloading package punkt to /root/nltk_data...\n",
            "[nltk_data]   Unzipping tokenizers/punkt.zip.\n",
            "[nltk_data] Downloading package wordnet to /root/nltk_data...\n"
          ]
        }
      ]
    },
    {
      "cell_type": "code",
      "source": [
        "STOP_WORDS = set(stopwords.words('english'))\n",
        "WORD_LEMMATIZER = WordNetLemmatizer()"
      ],
      "metadata": {
        "id": "ONj_h1rlk4sQ"
      },
      "execution_count": 8,
      "outputs": []
    },
    {
      "cell_type": "markdown",
      "source": [],
      "metadata": {
        "id": "kySDSc1EeAyw"
      }
    },
    {
      "cell_type": "code",
      "source": [
        "def read_documents_from_folder(folder):\n",
        "    all_text = []\n",
        "    all_filenames = []\n",
        "\n",
        "    for file_name in os.listdir(folder):\n",
        "        if file_name.endswith(\".txt\"):\n",
        "            all_filenames.append(file_name)\n",
        "            with open(os.path.join(folder, file_name), 'r', encoding='utf-8') as file:\n",
        "                file_content = file.read()\n",
        "                all_text.append(file_content)\n",
        "\n",
        "    return all_filenames, all_text"
      ],
      "metadata": {
        "id": "7Tqh-j0Vk5oW"
      },
      "execution_count": 9,
      "outputs": []
    },
    {
      "cell_type": "code",
      "source": [
        "def process_document_text(text_content):\n",
        "    \"\"\"Cleans and processes text, removing unnecessary parts and breaking it down.\"\"\"\n",
        "    text_content = text_content.lower()\n",
        "    text_content = re.sub(r\"[^a-zA-Z0-9\\s]\", \"\", text_content)\n",
        "    text_content = re.sub(r\"\\d+\", \"\", text_content)\n",
        "    word_tokens = word_tokenize(text_content)\n",
        "    filtered_words = [WORD_LEMMATIZER.lemmatize(word) for word in word_tokens if word not in STOP_WORDS]\n",
        "\n",
        "    return filtered_words"
      ],
      "metadata": {
        "id": "znU3YoPCk5mH"
      },
      "execution_count": 10,
      "outputs": []
    },
    {
      "cell_type": "code",
      "source": [
        "def process_query_text(query_content):\n",
        "    \"\"\"Processes the query text but retains stop words for meaningful search.\"\"\"\n",
        "    query_content = query_content.lower()\n",
        "    query_content = re.sub(r\"[^a-zA-Z0-9\\s]\", \"\", query_content)\n",
        "    query_content = re.sub(r\"\\d+\", \"\", query_content)\n",
        "    query_tokens = word_tokenize(query_content)\n",
        "    lemmatized_query = [WORD_LEMMATIZER.lemmatize(word) for word in query_tokens]\n",
        "\n",
        "    return lemmatized_query"
      ],
      "metadata": {
        "id": "-Jb30jTf-vMJ"
      },
      "execution_count": 11,
      "outputs": []
    },
    {
      "cell_type": "code",
      "source": [
        "print(os.listdir('/content/drive/MyDrive/Westcliff/IR'))"
      ],
      "metadata": {
        "colab": {
          "base_uri": "https://localhost:8080/"
        },
        "id": "2KBUhVenf7Uv",
        "outputId": "fe003de2-0edf-401b-d1ff-c94578a6a543"
      },
      "execution_count": 12,
      "outputs": [
        {
          "output_type": "stream",
          "name": "stdout",
          "text": [
            "['week3.ipynb', 'week_2__sahas.ipynb', 'WaronRussiaandUkrain.txt', 'WarRUs.txt', 'Ukrain.txt', 'GlobalView.txt', 'Putin.txt', 'HelloRussia.txt']\n"
          ]
        }
      ]
    },
    {
      "cell_type": "code",
      "source": [
        "folder_path = '/content/drive/MyDrive/Westcliff/IR'\n",
        "\n",
        "\n",
        "document_filenames, document_texts = read_documents_from_folder(folder_path)\n",
        "processed_docs = [process_document_text(text) for text in document_texts]\n",
        "\n",
        "word_vocab = set([word for doc in processed_docs for word in doc])\n",
        "sorted_vocab = sorted(word_vocab)\n",
        "\n",
        "print(word_vocab)\n"
      ],
      "metadata": {
        "id": "aspjXDEwk5jf",
        "colab": {
          "base_uri": "https://localhost:8080/"
        },
        "outputId": "57dab8d8-f3da-4171-8807-6646b3e38b16"
      },
      "execution_count": 13,
      "outputs": [
        {
          "output_type": "stream",
          "name": "stdout",
          "text": [
            "{'mineral', 'say', 'unsuccessful', 'opposition', 'towards', 'energy', 'destroyed', 'battalion', 'january', 'kickstart', 'lavrov', 'estimate', 'april', 'die', 'adjacent', 'bank', 'back', 'assault', 'considering', 'highlight', 'live', 'settlement', 'nezalezhnosti', 'compounded', 'direct', 'formally', 'rafael', 'break', 'impose', 'valerii', 'handed', 'led', 'took', 'opted', 'south', 'twentyone', 'showed', 'explored', 'steinbach', 'water', 'described', 'displaced', 'pretext', 'division', 'commit', 'mainly', 'departed', 'use', 'disputed', 'announced', 'keir', 'get', 'consequence', 'caused', 'putin', 'borin', 'lukashenko', 'product', 'peacekeeping', 'subsequent', 'donetsk', 'stalled', 'sell', 'sector', 'pohorily', 'weve', 'agreement', 'greater', 'prepared', 'analyst', 'performance', 'kazakhstan', 'bombard', 'hirnyk', 'utilizes', 'public', 'note', 'skirmish', 'invasion', 'peninsula', 'part', 'stage', 'damage', 'called', 'shift', 'egmont', 'reached', 'approved', 'department', 'quickly', 'vulnerable', 'mile', 'threatened', 'vuhledar', 'empower', 'mean', 'loss', 'critical', 'suspended', 'kherson', 'un', 'left', 'counteroffensive', 'counterfactual', 'trapped', 'supplier', 'tank', 'grossi', 'condemn', 'long', 'debating', 'percent', 'leave', 'accident', 'institut', 'mariupol', 'stop', 'citywide', 'moved', 'oilseed', 'frozen', 'send', 'ballistic', 'others', 'dam', 'el', 'hundred', 'theyre', 'late', 'including', 'wto', 'rebuffed', 'adequate', 'selfdeclared', 'harmed', 'summary', 'playing', 'prevent', 'working', 'protection', 'stopped', 'informationsharing', 'region', 'village', 'couldnt', 'justice', 'economic', 'bilateral', 'anyway', 'et', 'iaea', 'sixty', 'summoned', 'precipitated', 'medium', 'social', 'win', 'pushing', 'november', 'whether', 'way', 'aid', 'gained', 'necessary', 'dependency', 'communication', 'drone', 'mariano', 'annexed', 'seen', 'jurisdiction', 'cutting', 'look', 'confiscation', 'escalation', 'bridge', 'satisfactory', 'mutiny', 'program', 'trying', 'began', 'diversion', 'leading', 'committed', 'deter', 'territory', 'wednesday', 'metal', 'wellbeing', 'export', 'resolution', 'sea', 'examined', 'devolved', 'presence', 'acquiring', 'deployed', 'form', 'baltic', 'identification', 'argued', 'complex', 'donor', 'pipeline', 'armed', 'speaker', 'headquarters', 'simply', 'association', 'seven', 'pdf', 'position', 'eu', 'suffered', 'warn', 'method', 'already', 'penetration', 'full', 'successfully', 'productspecific', 'happiness', 'representative', 'important', 'dissuade', 'opened', 'pronounced', 'using', 'briefing', 'ukrainerussia', 'field', 'significant', 'operation', 'agreed', 'future', 'signed', 'revitalized', 'pokrovsk', 'encircled', 'challenge', 'act', 'participate', 'crucial', 'rape', 'powersincluding', 'cost', 'belief', 'add', 'surprising', 'defensive', 'eighty', 'violent', 'fall', 'cold', 'black', 'constraint', 'roman', 'willingness', 'grain', 'video', 'entire', 'council', 'mr', 'believe', 'nord', 'travelled', 'bring', 'town', 'join', 'economy', 'negotiated', 'culminating', 'westernprovided', 'gas', 'theoretical', 'land', 'free', 'dynamic', 'explores', 'data', 'observation', 'initiate', 'focusing', 'increased', 'control', 'inside', 'unconventional', 'like', 'health', 'next', 'syndicated', 'certain', 'theater', 'offensive', 'safety', 'border', 'dnipro', 'linked', 'successful', 'prorussian', 'reach', 'suffering', 'withdrew', 'settling', 'hub', 'sustained', 'demand', 'disguised', 'advancing', 'intended', 'nato', 'holding', 'satellite', 'belarus', 'return', 'theoryconsistent', 'ship', 'throw', 'population', 'crossfire', 'flank', 'result', 'belarussian', 'referring', 'reallocation', 'depends', 'reckless', 'toward', 'people', 'compared', 'announcing', 'allowing', 'market', 'westernsupplied', 'withdrawn', 'backed', 'korea', 'global', 'killed', 'tenet', 'lately', 'cluster', 'heterogeneity', 'carriquiry', 'enerhodar', 'highly', 'ownership', 'show', 'following', 'david', 'investigates', 'unseat', 'time', 'risk', 'criterion', 'eastern', 'foreign', 'argues', 'lyman', 'topic', 'federation', 'trust', 'included', 'stepped', 'thanked', 'transitioned', 'eurasian', 'examine', 'seizure', 'shmyhal', 'moscow', 'situation', 'measure', 'soon', 'total', 'emergency', 'reservoir', 'little', 'armoured', 'let', 'nova', 'presumed', 'summer', 'constantly', 'billion', 'switchyard', 'sale', 'transportation', 'relation', 'point', 'defense', 'joining', 'allegation', 'losing', 'reign', 'andrii', 'utilize', 'basic', 'square', 'international', 'february', 'four', 'lethal', 'world', 'burden', 'thats', 'invade', 'torture', 'shao', 'june', 'ahn', 'protest', 'republic', 'likelihood', 'accusation', 'signaled', 'commodity', 'something', 'targeted', 'replaced', 'km', 'system', 'al', 'seemed', 'range', 'recorded', 'benefiting', 'ongoing', 'prigozhin', 'might', 'turn', 'fund', 'well', 'provision', 'russia', 'framework', 'lose', 'analysis', 'nineteen', 'royal', 'amnesty', 'kurakhove', 'sanction', 'azov', 'director', 'lt', 'destruction', 'partial', 'died', 'nevelske', 'occupies', 'liberty', 'changed', 'detailed', 'attempt', 'redeployed', 'state', 'still', 'joined', 'stalling', 'primarily', 'wagner', 'decision', 'provide', 'removal', 'prior', 'activity', 'asked', 'boldly', 'tension', 'lammy', 'house', 'offered', 'shipment', 'release', 'staff', 'annexation', 'drawing', 'indicate', 'defended', 'limit', 'heavy', 'proceeds', 'citing', 'transfer', 'denied', 'outlook', 'nature', 'strategically', 'indiscriminate', 'united', 'substantial', 'attempted', 'turkey', 'encirclement', 'october', 'province', 'germanyfailed', 'escalatory', 'length', 'weapon', 'halfway', 'volodymr', 'september', 'th', 'responded', 'reinforcement', 'sharing', 'denys', 'explains', 'assembly', 'consistently', 'rejected', 'incursion', 'allied', 'almost', 'effect', 'occupied', 'major', 'reportedly', 'hiroshima', 'plan', 'demyanenko', 'belgium', 'assessment', 'deep', 'action', 'declared', 'southeast', 'transport', 'withdrawal', 'euromaidan', 'ukrainian', 'decrease', 'definitive', 'alliesincluding', 'increasingly', 'peer', 'report', 'nation', 'antitank', 'mechanism', 'inspection', 'productlevel', 'sovereign', 'came', 'individualsincluding', 'agency', 'existence', 'asia', 'appointment', 'alleged', 'bombing', 'squid', 'war', 'genocide', 'outcome', 'reactor', 'warned', 'analogue', 'targeting', 'defending', 'told', 'end', 'partner', 'price', 'civilian', 'flooding', 'best', 'ukraine', 'new', 'voted', 'france', 'fullscale', 'involved', 'restriction', 'stream', 'front', 'execution', 'progress', 'made', 'internal', 'disaster', 'residential', 'wasted', 'march', 'surrounding', 'import', 'cool', 'demilitarize', 'attack', 'internationale', 'launching', 'unprovoked', 'beyond', 'haiba', 'reject', 'cruise', 'stiff', 'shortly', 'estrada', 'earned', 'however', 'fled', 'retains', 'oil', 'largescale', 'life', 'southern', 'ally', 'speech', 'two', 'fear', 'agricultural', 'conflict', 'crafting', 'blockade', 'negotiation', 'nagasaki', 'repeatedly', 'mahlstein', 'discounted', 'official', 'strengthen', 'gathered', 'strong', 'minefield', 'port', 'facility', 'prompting', 'crisis', 'tactic', 'prove', 'imposing', 'windfall', 'better', 'ukrainebased', 'withdrawing', 'zone', 'affecting', 'raised', 'target', 'value', 'combat', 'yet', 'extended', 'challenging', 'session', 'outside', 'move', 'urban', 'crimea', 'stay', 'oleksandr', 'northeast', 'throughout', 'yevgeniy', 'bringing', 'regular', 'syria', 'integration', 'supply', 'sparked', 'several', 'think', 'added', 'maternity', 'visit', 'yati', 'yanukovychs', 'exercise', 'naval', 'gain', 'estonia', 'one', 'originally', 'shell', 'released', 'sign', 'issued', 'command', 'loan', 'weaponry', 'line', 'india', 'ton', 'operate', 'stock', 'series', 'battle', 'west', 'literature', 'half', 'anonymous', 'zelensky', 'reducing', 'claimed', 'extent', 'earliest', 'union', 'bentley', 'inflation', 'industry', 'recently', 'need', 'poland', 'country', 'change', 'moving', 'air', 'goal', 'donbas', 'frontline', 'wfp', 'distinct', 'enemy', 'north', 'fatigue', 'prime', 'missile', 'talk', 'providing', 'forty', 'often', 'fighting', 'mod', 'broader', 'claim', 'bomb', 'anyone', 'gross', 'iran', 'lost', 'corridor', 'finding', 'longrange', 'recent', 'blackout', 'three', 'accused', 'hospital', 'sending', 'antiwar', 'likely', 'mode', 'latvia', 'shelling', 'week', 'approach', 'visited', 'used', 'imposed', 'erasing', 'climate', 'legal', 'continues', 'crimeans', 'amid', 'loosen', 'unjustified', 'counterattack', 'building', 'le', 'enforce', 'roughly', 'crossborder', 'maj', 'ukrainerelated', 'base', 'hold', 'uk', 'zaluzhnyi', 'flow', 'mobilization', 'reveals', 'minsk', 'gathering', 'stable', 'allow', 'covert', 'see', 'expenditure', 'secondly', 'along', 'annual', 'road', 'launched', 'worldwide', 'simulated', 'faced', 'joe', 'refugee', 'exacerbated', 'impact', 'bickering', 'realized', 'annex', 'zaporizhzhia', 'pres', 'success', 'retreat', 'hope', 'soldier', 'u', 'arrived', 'largest', 'river', 'bigger', 'bolster', 'seventy', 'us', 'availability', 'referendum', 'chernihiv', 'reflected', 'conducted', 'breach', 'commanderinchief', 'financing', 'humanitarian', 'word', 'level', 'chain', 'seizing', 'demanding', 'yulia', 'russiaukraine', 'group', 'rotating', 'cooling', 'america', 'minister', 'rd', 'face', 'warns', 'crackdown', 'central', 'avoid', 'higher', 'critically', 'document', 'thursday', 'assistance', 'large', 'odesa', 'fair', 'could', 'cofounder', 'buildup', 'contrast', 'strategy', 'remain', 'contribution', 'monthslong', 'refurbish', 'deal', 'superiority', 'appears', 'mounted', 'month', 'plane', 'nevertheless', 'largely', 'maidan', 'sense', 'expansion', 'latest', 'hinted', 'model', 'analyzed', 'glauben', 'sixteen', 'crash', 'function', 'exporter', 'revolt', 'demining', 'concern', 'bond', 'possibility', 'aggression', 'exante', 'far', 'furthermore', 'published', 'cited', 'movement', 'accompanied', 'served', 'account', 'august', 'cauldron', 'area', 'threat', 'clash', 'city', 'quantify', 'acute', 'minimum', 'ability', 'regarding', 'sergey', 'post', 'kremlin', 'ensure', 'failed', 'particularly', 'notable', 'russian', 'military', 'go', 'year', 'growing', 'article', 'destination', 'conclusion', 'internally', 'flee', 'though', 'earlier', 'shelled', 'quit', 'draining', 'capital', 'encircle', 'european', 'pitfall', 'collateral', 'located', 'explosion', 'equipment', 'zelenskyy', 'nuclear', 'boungou', 'alexander', 'taking', 'defiantly', 'slowed', 'accordance', 'conference', 'odds', 'defend', 'sir', 'drove', 'nonetheless', 'leadership', 'recaptured', 'make', 'east', 'author', 'accord', 'trade', 'reform', 'intensified', 'capture', 'company', 'map', 'december', 'dissemination', 'patriot', 'illegal', 'biden', 'havoc', 'nearly', 'kilometer', 'plagued', 'diplomatic', 'ruin', 'attacking', 'drawn', 'blockage', 'may', 'ukraineand', 'support', 'allen', 'middecember', 'avdiivka', 'widened', 'western', 'wiped', 'remains', 'army', 'inflicted', 'claiming', 'constitutional', 'starmer', 'surge', 'behnassi', 'iranian', 'day', 'law', 'citizen', 'done', 'remained', 'ten', 'said', 'heightened', 'china', 'lower', 'previous', 'fighter', 'development', 'projected', 'midaugust', 'beginning', 'drive', 'initial', 'pond', 'pulled', 'empirical', 'expanded', 'food', 'antony', 'bbc', 'past', 'diversify', 'officialsand', 'proxy', 'fullblown', 'main', 'considerable', 'policy', 'direction', 'context', 'take', 'among', 'first', 'demonstration', 'viktor', 'another', 'europe', 'income', 'economically', 'active', 'nearcertain', 'right', 'instead', 'amplified', 'interview', 'koutronas', 'vladimir', 'ground', 'extend', 'hike', 'blowing', 'convoy', 'find', 'supplying', 'warfare', 'arita', 'essential', 'reveal', 'try', 'nine', 'million', 'suggest', 'force', 'retreating', 'bakhmut', 'bruegel', 'seized', 'side', 'atomic', 'kakhovka', 'confiscate', 'private', 'harvest', 'treaty', 'commercial', 'southwest', 'luhansk', 'victory', 'precedent', 'siege', 'would', 'permission', 'immediate', 'give', 'insight', 'oleh', 'southeastern', 'toppling', 'ordered', 'continued', 'addition', 'tentacle', 'serhiy', 'seize', 'delaying', 'closer', 'occurring', 'col', 'broke', 'autonomous', 'expost', 'rostovondon', 'kharkiv', 'russiancontrolled', 'aggressive', 'soviet', 'prop', 'severe', 'insulted', 'riparian', 'protect', 'plant', 'statistical', 'fang', 'july', 'demanded', 'given', 'tymoshenko', 'cause', 'russianled', 'ruta', 'voytenkov', 'limited', 'developed', 'according', 'additional', 'news', 'treason', 'response', 'separating', 'intelligence', 'ass', 'hastily', 'elsewhere', 'asset', 'immediately', 'culminated', 'protester', 'battlefield', 'dropping', 'repair', 'krasnohorivka', 'local', 'surrounded', 'planning', 'crime', 'advantage', 'title', 'meanwhile', 'funding', 'mistake', 'resource', 'muchanticipated', 'secretary', 'pushed', 'set', 'key', 'degree', 'ministry', 'lebanon', 'officer', 'atlantic', 'resistance', 'withdraw', 'continent', 'operated', 'blinken', 'russianallied', 'possible', 'yanukovych', 'dangerous', 'number', 'thermobaric', 'lithuania', 'explanation', 'coordination', 'reported', 'sybiha', 'top', 'simulation', 'must', 'reduced', 'help', 'contingency', 'armor', 'resulting', 'term', 'syrsky', 'received', 'denazify', 'brought', 'thousand', 'munition', 'member', 'resulted', 'organization', 'deployment', 'also', 'evidence', 'different', 'across', 'toptier', 'growth', 'prison', 'turned', 'london', 'kyiv', 'since', 'eastward', 'brigade', 'additionally', 'damaged', 'clearly', 'ceasefire', 'security', 'attempting', 'profit', 'monitor', 'lifting', 'paper', 'vox', 'met', 'violence', 'advance', 'lastditch', 'preferred', 'hardened', 'implication', 'de', 'casualty', 'imported', 'publicly', 'principle', 'massscale', 'pulling', 'advanced', 'known', 'include', 'stalemate', 'administration', 'adding', 'stayed', 'continue', 'want', 'nazar', 'start', 'government', 'confined', 'operator', 'defender', 'southward', 'around', 'general', 'provides', 'ii', 'although', 'later', 'reserve', 'retook', 'white', 'friday', 'strike', 'indirect', 'stabilisation', 'delivery', 'president', 'airstrikes', 'infrastructure', 'held', 'confirm', 'firstly', 'leader', 'escalating', 'cease', 'germany', 'g', 'whole', 'violation', 'death', 'separatist', 'devastating', 'troop', 'lastly', 'predicts', 'dramatically', 'step', 'diplomat', 'effort', 'false', 'greatly', 'near', 'frontlines', 'involvement', 'kyivs', 'independence', 'taken', 'euroclear', 'human', 'behind', 'domestic', 'appear', 'russianbacked', 'discus', 'imagery', 'dollar', 'aftermath', 'small', 'daily', 'mostly', 'reduce', 'winter', 'flat', 'particular', 'ethnic', 'worsened', 'strategic', 'twenty', 'ukrainiancontrolled', 'socioeconomic', 'adjustment', 'erupted', 'issue', 'tsekhotsky', 'debate', 'lot', 'directly', 'perimeter', 'apparent', 'early', 'followed', 'study', 'africa', 'vehicle', 'prewar'}\n"
          ]
        }
      ]
    },
    {
      "cell_type": "code",
      "source": [
        "def calculate_term_frequency(word, document):\n",
        "    return document.count(word) / len(document)"
      ],
      "metadata": {
        "id": "6c9XBy3wl4hA"
      },
      "execution_count": 14,
      "outputs": []
    },
    {
      "cell_type": "code",
      "source": [
        "def calculate_inverse_document_frequency(word, all_docs):\n",
        "    docs_with_word = sum(1 for doc in all_docs if word in doc)\n",
        "    return math.log(len(all_docs) / (1 + docs_with_word))"
      ],
      "metadata": {
        "id": "ymun30ynpX2M"
      },
      "execution_count": 15,
      "outputs": []
    },
    {
      "cell_type": "code",
      "source": [
        "def generate_tfidf_vector(doc, all_docs, vocab):\n",
        "    tfidf_values = []\n",
        "    for word in vocab:\n",
        "        tf_value = calculate_term_frequency(word, doc)\n",
        "        idf_value = calculate_inverse_document_frequency(word, all_docs)\n",
        "        tfidf_values.append(tf_value * idf_value)\n",
        "    return np.array(tfidf_values)"
      ],
      "metadata": {
        "id": "PusalvzGHrLX"
      },
      "execution_count": 16,
      "outputs": []
    },
    {
      "cell_type": "code",
      "source": [
        "def calculate_cosine_similarity(vec1, vec2):\n",
        "    dot_prod = np.dot(vec1, vec2)\n",
        "    norm1 = np.linalg.norm(vec1)\n",
        "    norm2 = np.linalg.norm(vec2)\n",
        "    return dot_prod / (norm1 * norm2)"
      ],
      "metadata": {
        "id": "3x4Ibp77Ht_u"
      },
      "execution_count": 17,
      "outputs": []
    },
    {
      "cell_type": "code",
      "source": [
        "search_queries = [\n",
        "    \"Russia's invasion of Ukraine 2022\",\n",
        "    \"Impact of Russia-Ukraine war on global trade\",\n",
        "    \"Ukraine's counteroffensive efforts and Russia's response\",\n",
        "    \"Sanctions imposed on Russia during Ukraine war\",\n",
        "    \"Economic consequences of the war for Ukraine and Russia\"\n",
        "]"
      ],
      "metadata": {
        "id": "qtjYy346RhJT"
      },
      "execution_count": 18,
      "outputs": []
    },
    {
      "cell_type": "code",
      "source": [
        "processed_queries = [process_query_text(query) for query in search_queries]\n",
        "\n",
        "document_tfidf_vectors = [generate_tfidf_vector(doc, processed_docs, sorted_vocab) for doc in processed_docs]\n",
        "query_tfidf_vectors = [generate_tfidf_vector(query, processed_docs, sorted_vocab) for query in processed_queries]\n"
      ],
      "metadata": {
        "id": "TeWQmQwKHt8H"
      },
      "execution_count": 19,
      "outputs": []
    },
    {
      "cell_type": "code",
      "source": [
        "similarities_output = []\n",
        "for query_vector in query_tfidf_vectors:\n",
        "    similarity_scores = [calculate_cosine_similarity(query_vector, doc_vector) for doc_vector in document_tfidf_vectors]\n",
        "    similarities_output.append(similarity_scores)\n",
        "\n",
        "output_filename = 'sahas_results.txt'\n",
        "with open(output_filename, 'w') as output_file:\n",
        "    for i, query in enumerate(search_queries):\n",
        "        output_file.write(\"\\n\")\n",
        "        output_file.write(\"---------------------------------------------------------\\n\")\n",
        "        output_file.write(f\"Similarities for query: \\\"{query}\\\":\\n\")\n",
        "        output_file.write(\"---------------------------------------------------------\\n\")\n",
        "        doc_similarity_scores = [(document_filenames[j], similarities_output[i][j]) for j in range(len(document_texts))]\n",
        "        sorted_doc_scores = sorted(doc_similarity_scores, key=lambda x: x[1], reverse=True)\n",
        "        for doc_name, similarity_score in sorted_doc_scores:\n",
        "            output_file.write(f\"{doc_name}: {similarity_score:.4f}\\n\")\n",
        "\n",
        "list_output_filename = 'similarity_output_list.txt'\n",
        "with open(list_output_filename, 'w') as list_output_file:\n",
        "    for similarity_set in similarities_output:\n",
        "        list_output_file.write(f\"{similarity_set}\\n\")\n",
        "\n",
        "with open(output_filename, 'r') as file:\n",
        "    print(file.read())"
      ],
      "metadata": {
        "colab": {
          "base_uri": "https://localhost:8080/"
        },
        "id": "Ds-ockluHt5o",
        "outputId": "c72be276-1ffc-4c75-e2bb-0304bada25b1"
      },
      "execution_count": 20,
      "outputs": [
        {
          "output_type": "stream",
          "name": "stdout",
          "text": [
            "\n",
            "---------------------------------------------------------\n",
            "Similarities for query: \"Russia's invasion of Ukraine 2022\":\n",
            "---------------------------------------------------------\n",
            "HelloRussia.txt: 0.1438\n",
            "WaronRussiaandUkrain.txt: 0.0911\n",
            "WarRUs.txt: 0.0779\n",
            "Ukrain.txt: 0.0499\n",
            "GlobalView.txt: 0.0446\n",
            "Putin.txt: 0.0178\n",
            "\n",
            "---------------------------------------------------------\n",
            "Similarities for query: \"Impact of Russia-Ukraine war on global trade\":\n",
            "---------------------------------------------------------\n",
            "GlobalView.txt: 0.5357\n",
            "WaronRussiaandUkrain.txt: 0.0092\n",
            "HelloRussia.txt: 0.0068\n",
            "WarRUs.txt: 0.0000\n",
            "Ukrain.txt: 0.0000\n",
            "Putin.txt: 0.0000\n",
            "\n",
            "---------------------------------------------------------\n",
            "Similarities for query: \"Ukraine's counteroffensive efforts and Russia's response\":\n",
            "---------------------------------------------------------\n",
            "HelloRussia.txt: 0.1146\n",
            "WarRUs.txt: 0.0248\n",
            "WaronRussiaandUkrain.txt: 0.0094\n",
            "Ukrain.txt: 0.0083\n",
            "GlobalView.txt: 0.0057\n",
            "Putin.txt: 0.0023\n",
            "\n",
            "---------------------------------------------------------\n",
            "Similarities for query: \"Sanctions imposed on Russia during Ukraine war\":\n",
            "---------------------------------------------------------\n",
            "HelloRussia.txt: 0.0678\n",
            "WarRUs.txt: 0.0594\n",
            "GlobalView.txt: 0.0222\n",
            "WaronRussiaandUkrain.txt: 0.0195\n",
            "Ukrain.txt: 0.0171\n",
            "Putin.txt: 0.0048\n",
            "\n",
            "---------------------------------------------------------\n",
            "Similarities for query: \"Economic consequences of the war for Ukraine and Russia\":\n",
            "---------------------------------------------------------\n",
            "GlobalView.txt: 0.0638\n",
            "HelloRussia.txt: 0.0348\n",
            "WaronRussiaandUkrain.txt: 0.0270\n",
            "WarRUs.txt: 0.0186\n",
            "Ukrain.txt: 0.0119\n",
            "Putin.txt: 0.0033\n",
            "\n"
          ]
        }
      ]
    },
    {
      "cell_type": "code",
      "source": [],
      "metadata": {
        "id": "Kobb8M6Dl4bn"
      },
      "execution_count": null,
      "outputs": []
    },
    {
      "cell_type": "code",
      "source": [],
      "metadata": {
        "id": "K4DoNCeDl4ZP"
      },
      "execution_count": null,
      "outputs": []
    },
    {
      "cell_type": "code",
      "source": [],
      "metadata": {
        "id": "UrY4lUG5l4W3"
      },
      "execution_count": null,
      "outputs": []
    },
    {
      "cell_type": "code",
      "source": [],
      "metadata": {
        "id": "F-M1QWqhl4Ug"
      },
      "execution_count": null,
      "outputs": []
    },
    {
      "cell_type": "code",
      "source": [],
      "metadata": {
        "id": "StPC6_I1l4SF"
      },
      "execution_count": null,
      "outputs": []
    },
    {
      "cell_type": "code",
      "source": [],
      "metadata": {
        "id": "2XqnNrYxl4Pu"
      },
      "execution_count": null,
      "outputs": []
    },
    {
      "cell_type": "code",
      "source": [],
      "metadata": {
        "id": "wL5YN7CAk5hW"
      },
      "execution_count": null,
      "outputs": []
    }
  ]
}